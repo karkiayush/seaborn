{
  "nbformat": 4,
  "nbformat_minor": 0,
  "metadata": {
    "colab": {
      "provenance": [],
      "mount_file_id": "1PPCZW-6EuN97Wkzoai8gAJd-pKZ8cc9k",
      "authorship_tag": "ABX9TyNm/FwLr8Hi9ZJypajgyYeh"
    },
    "kernelspec": {
      "name": "python3",
      "display_name": "Python 3"
    },
    "language_info": {
      "name": "python"
    }
  },
  "cells": [
    {
      "cell_type": "code",
      "execution_count": 4,
      "metadata": {
        "id": "57KlzQ1cWkuP"
      },
      "outputs": [],
      "source": [
        "import seaborn as sbn\n",
        "import pandas as pd\n",
        "import matplotlib.pyplot as plt"
      ]
    },
    {
      "cell_type": "code",
      "source": [],
      "metadata": {
        "id": "1v0YN954a7o_"
      },
      "execution_count": null,
      "outputs": []
    }
  ]
}