{
 "cells": [
  {
   "cell_type": "code",
   "execution_count": 2,
   "metadata": {},
   "outputs": [],
   "source": [
    "import matplotlib.pyplot as plt\n",
    "import seaborn as sns\n",
    "import plotly.express as px"
   ]
  },
  {
   "cell_type": "markdown",
   "metadata": {},
   "source": [
    "## Categorical Plots\n",
    "\n",
    "### Categorical Scatter Plot\n",
    "\n",
    "- Stripplot\n",
    "- Swarmplot\n",
    "\n",
    "### Categorical Distribution Plots\n",
    "\n",
    "- Boxplot\n",
    "- Violinplot\n",
    "\n",
    "### Categorical Estimate Plot -> for central tendency\n",
    "\n",
    "- Barplot\n",
    "- Pointplot\n",
    "- Countplot\n",
    "\n",
    "### Figure level function -> `catplot`"
   ]
  },
  {
   "cell_type": "markdown",
   "metadata": {},
   "source": []
  }
 ],
 "metadata": {
  "kernelspec": {
   "display_name": "base",
   "language": "python",
   "name": "python3"
  },
  "language_info": {
   "codemirror_mode": {
    "name": "ipython",
    "version": 3
   },
   "file_extension": ".py",
   "mimetype": "text/x-python",
   "name": "python",
   "nbconvert_exporter": "python",
   "pygments_lexer": "ipython3",
   "version": "3.11.5"
  }
 },
 "nbformat": 4,
 "nbformat_minor": 2
}
