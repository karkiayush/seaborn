{
 "cells": [
  {
   "cell_type": "code",
   "execution_count": null,
   "metadata": {},
   "outputs": [],
   "source": [
    "\"\"\"\n",
    "In matplotlib, there are two objects which will be created while plotting graphs: \n",
    "    1. figure object \n",
    "    2. axes object\n",
    "\n",
    "1. figure\n",
    "figure is the container which is formed while creating the plots, that consists of multiples axes. figure is holder that holds one or more axes.\n",
    "\n",
    "\n",
    "2. axes\n",
    "axes are the actual plot that lies inside of figure object. axes are like the subset of figure.\n",
    "\n",
    "But on the other side, Seaborn creates two level of function:\n",
    "a. figure level\n",
    "b. axes level\n",
    "with which we can plot the graphs. \n",
    "\n",
    "Both the function does same job but each of them have their own pros and cons. Hence based on our requirement we choose one of them. \n",
    "\n",
    "\n",
    "\"\"\""
   ]
  }
 ],
 "metadata": {
  "language_info": {
   "name": "python"
  }
 },
 "nbformat": 4,
 "nbformat_minor": 2
}
