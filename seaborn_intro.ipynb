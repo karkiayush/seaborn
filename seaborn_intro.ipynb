{
 "cells": [
  {
   "cell_type": "code",
   "execution_count": null,
   "metadata": {},
   "outputs": [],
   "source": [
    "\"\"\"\n",
    "Seaborn is python data visualization library that is made on top of matplotlib. \n",
    "\n",
    "Seaborn provides us a layer of abstraction due to which it is much simpler to use as compared to Matplotlib. Due to its abstracted nature, less lines of code needs to be written for the same thing that we do in matplotlib.\n",
    "\n",
    "\n",
    "Some reasons why seaborn is preferred over matplotlib: \n",
    "1. It provides level of abstraction, hence for data visulization less line of code can do the same work.\n",
    "\n",
    "2. Seaborn produces more beautiful looking graphs and it more visually appealing and have better asthetics than matplotlib. \n",
    "\n",
    "3. More graphs is included.\n",
    "\n",
    "4. Due to its popularity.\n",
    "\"\"\""
   ]
  }
 ],
 "metadata": {
  "kernelspec": {
   "display_name": "Python 3",
   "language": "python",
   "name": "python3"
  },
  "language_info": {
   "name": "python",
   "version": "3.11.4"
  }
 },
 "nbformat": 4,
 "nbformat_minor": 2
}
