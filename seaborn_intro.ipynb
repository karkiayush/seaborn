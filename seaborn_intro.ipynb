{
 "cells": [
  {
   "cell_type": "code",
   "execution_count": null,
   "metadata": {},
   "outputs": [],
   "source": [
    "\"\"\"\n",
    "Seaborn is python data visualization library that is made on top of matplotlib. \n",
    "\n",
    "Seaborn provides us a layer of abstraction due to which it is much simpler to use as compared to Matplotlib. Due to its abstracted nature, less lines of code needs to be written for the same thing that we do in matplotlib.\n",
    "\n",
    "\n",
    "Some reasons why seaborn is preferred over matplotlib: \n",
    "1. It provides level of abstraction, hence for data visulization less line of code can do the same work.\n",
    "\n",
    "2. Seaborn produces more beautiful looking graphs and it more visually appealing and have better asthetics than matplotlib. \n",
    "\n",
    "3. More graphs is included.\n",
    "\n",
    "4. Due to its popularity.\n",
    "\n",
    "\n",
    "\n",
    "Note: We have 2 function for plotting same graphs: \n",
    "    1. fig level function \n",
    "    2. axes level functions.\n",
    "\n",
    "Plots in seaborn are classified in following category: \n",
    "    1. Relational plot: Scatter plot, Line plot\n",
    "    2. Distribution plot/Dist plot: Histogram, Kde plot, Rug plot\n",
    "    3. Categorical plot: Bar plot, Count plot, Box plot, Violin plot, Swam plot and so on.\n",
    "    4. Regression plot(reg plot)\n",
    "    5. Matrix plot(Used for grid of data): HeatMap, ClusterMap\n",
    "    6. Multiplots: Joint plot, Pair Plot\n",
    "\"\"\""
   ]
  }
 ],
 "metadata": {
  "kernelspec": {
   "display_name": "Python 3",
   "language": "python",
   "name": "python3"
  },
  "language_info": {
   "name": "python",
   "version": "3.11.4"
  }
 },
 "nbformat": 4,
 "nbformat_minor": 2
}
